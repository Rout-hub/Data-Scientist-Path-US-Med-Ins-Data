{
 "cells": [
  {
   "cell_type": "markdown",
   "metadata": {},
   "source": [
    "# U.S. Medical Insurance Costs"
   ]
  },
  {
   "cell_type": "markdown",
   "metadata": {},
   "source": [
    "Using the csv file provided, answer the following questions:\n",
    "1. Which region as the largest average BMI stats?\n",
    "2. Which region has the oldest average population?\n",
    "3. Which region has the most smokers?\n",
    "4. Which region has the highest average medical cost?\n",
    "5. Which region has the lowest average medical cost?\n",
    "\n"
   ]
  },
  {
   "cell_type": "code",
   "execution_count": 1,
   "metadata": {},
   "outputs": [],
   "source": [
    "import csv"
   ]
  },
  {
   "cell_type": "code",
   "execution_count": 2,
   "metadata": {},
   "outputs": [],
   "source": [
    "# Read data from csv into separate lists.\n",
    "\n",
    "with open('insurance.csv') as insurance_csv:\n",
    "    insurance_data = csv.DictReader(insurance_csv, delimiter=',')\n",
    "    ages = []\n",
    "    sex = []\n",
    "    bmi = []\n",
    "    children = []\n",
    "    smoker = []\n",
    "    region = []\n",
    "    charges = []\n",
    "    for row in insurance_data:\n",
    "        ages.append(int(row[\"age\"]))\n",
    "        sex.append(row[\"sex\"])\n",
    "        bmi.append(float(row[\"bmi\"]))\n",
    "        children.append(int(row[\"children\"]))\n",
    "        smoker.append(row[\"smoker\"])\n",
    "        region.append(row[\"region\"])\n",
    "        charges.append(float(row[\"charges\"]))\n",
    "  \n",
    "\n",
    "\n",
    "                       \n",
    "                           \n",
    "    \n",
    "    \n",
    "    "
   ]
  },
  {
   "cell_type": "code",
   "execution_count": 3,
   "metadata": {},
   "outputs": [
    {
     "name": "stdout",
     "output_type": "stream",
     "text": [
      "The average age in this database is: 39.20702541106129\n",
      "The average BMI in this database is: 30.663396860986538\n",
      "The average medical cost in this database is: 13270.422265141257\n"
     ]
    }
   ],
   "source": [
    "# Let's look at overall averages\n",
    "total_age = 0\n",
    "for i in range(len(ages)):\n",
    "    total_age += ages[i]\n",
    "average_age = total_age / len(ages)\n",
    "print(\"The average age in this database is: {}\".format(average_age))\n",
    "\n",
    "total_bmi = 0\n",
    "for i in range(len(bmi)):\n",
    "    total_bmi += bmi[i]\n",
    "average_bmi = total_bmi / len(bmi)\n",
    "print(\"The average BMI in this database is: {}\".format(average_bmi))\n",
    "\n",
    "total_charges = 0\n",
    "for i in range(len(charges)):\n",
    "    total_charges += charges[i]\n",
    "average_charges = total_charges / len(charges)\n",
    "print(\"The average medical cost in this database is: {}\".format(average_charges))\n"
   ]
  },
  {
   "cell_type": "code",
   "execution_count": 4,
   "metadata": {},
   "outputs": [
    {
     "name": "stdout",
     "output_type": "stream",
     "text": [
      "The database has 662 females and 676 males\n",
      "The database has 274 smokers.  0.20478325859491778 of database are smokers.\n"
     ]
    }
   ],
   "source": [
    "#Let's look at numbers of females vs males; smokers; people per region\n",
    "\n",
    "count_females = 0\n",
    "count_males = 0\n",
    "for i in range(len(sex)):\n",
    "    if sex[i] == \"female\":\n",
    "        count_females +=1\n",
    "    else:\n",
    "        count_males +=1\n",
    "\n",
    "count_smokers = 0\n",
    "\n",
    "for i in range(len(smoker)):\n",
    "    if smoker[i] == \"yes\":\n",
    "        count_smokers +=1\n",
    "\n",
    "region_dictionary = {}\n",
    "\n",
    "    \n",
    "\n",
    "print(\"The database has {} females and {} males\".format(count_females, count_males))\n",
    "print(\"The database has {} smokers.  {} of database are smokers.\".format(count_smokers, count_smokers/len(smoker)))\n",
    "\n",
    "        "
   ]
  },
  {
   "cell_type": "code",
   "execution_count": 5,
   "metadata": {},
   "outputs": [
    {
     "name": "stdout",
     "output_type": "stream",
     "text": [
      "{'southwest': 12823, 'southeast': 14174, 'northwest': 12739, 'northeast': 12723}\n",
      "{'southwest': 39.45538461538462, 'southeast': 38.93956043956044, 'northwest': 39.19692307692308, 'northeast': 39.26851851851852}\n",
      "The region with the average oldest population is southwest with an average age of 39.45538461538462\n"
     ]
    }
   ],
   "source": [
    "# Create a dictionary to store info about regions and ages.\n",
    "\n",
    "def create_dict(lst1, lst2):\n",
    "    dict = {}\n",
    "    for item in lst1:\n",
    "        dict[item] = []\n",
    "    lst_zip = list(zip(lst1, lst2))\n",
    "    for item in lst_zip:\n",
    "        dict[item[0]].append(item[1])\n",
    "            \n",
    "    return dict\n",
    "\n",
    "region_ages_dict = create_dict(region, ages)\n",
    "total_age_by_region = {}\n",
    "ave_age_by_region = {}\n",
    "for key,value in region_ages_dict.items():\n",
    "    total_age_by_region[key] = 0\n",
    "    for age in value:\n",
    "        total_age_by_region[key] += age\n",
    "    ave_age_by_region[key] = total_age_by_region[key]/len(region_ages_dict[key])\n",
    "    \n",
    "def max_value(dict):\n",
    "    max_val = 0\n",
    "    max_key = None\n",
    "    for key, value in dict.items():\n",
    "        if value > max_val:\n",
    "            max_val = value\n",
    "            max_key = key\n",
    "    return max_val, max_key    \n",
    "\n",
    "\n",
    "print(total_age_by_region)\n",
    "print(ave_age_by_region)\n",
    "max_age, max_region_age = max_value(ave_age_by_region)\n",
    "print(\"The region with the average oldest population is {} with an average age of {}\".format(max_region_age, max_age))\n",
    "\n",
    "\n",
    "\n",
    "\n"
   ]
  },
  {
   "cell_type": "code",
   "execution_count": 6,
   "metadata": {},
   "outputs": [
    {
     "name": "stdout",
     "output_type": "stream",
     "text": [
      "{'southwest': 9943.899999999998, 'southeast': 12141.580000000005, 'northwest': 9489.930000000004, 'northeast': 9452.215000000002}\n",
      "{'southwest': 30.59661538461538, 'southeast': 33.35598901098903, 'northwest': 29.199784615384626, 'northeast': 29.17350308641976}\n",
      "The region with the largest average BMI is southeast with an average bmi of 33.35598901098903\n"
     ]
    }
   ],
   "source": [
    "#Create dictionary to store info about regions and BMIs.\n",
    "\n",
    "region_bmi_dict = create_dict(region, bmi)\n",
    "total_bmi_by_region = {}\n",
    "ave_bmi_by_region = {}\n",
    "for key,value in region_bmi_dict.items():\n",
    "    total_bmi_by_region[key] = 0\n",
    "    for bmi in value:\n",
    "        total_bmi_by_region[key] += bmi\n",
    "    ave_bmi_by_region[key] = total_bmi_by_region[key]/len(region_bmi_dict[key])\n",
    "    \n",
    "\n",
    "print(total_bmi_by_region)\n",
    "print(ave_bmi_by_region)\n",
    "max_bmi, max_region_bmi = max_value(ave_bmi_by_region)\n",
    "print(\"The region with the largest average BMI is {} with an average bmi of {}\".format(max_region_bmi, max_bmi))\n"
   ]
  },
  {
   "cell_type": "code",
   "execution_count": 7,
   "metadata": {},
   "outputs": [
    {
     "name": "stdout",
     "output_type": "stream",
     "text": [
      "{'southwest': 58, 'southeast': 91, 'northwest': 58, 'northeast': 67}\n",
      "The region with the most smokers is southeast.\n"
     ]
    }
   ],
   "source": [
    "# Create dictionary to store info about smokers by region.\n",
    "region_smoker_dict = create_dict(region, smoker)\n",
    "\n",
    "total_smokers_by_region = {}\n",
    "\n",
    "for key,value in region_smoker_dict.items():\n",
    "    total_smokers_by_region[key] = 0\n",
    "    for val in value:\n",
    "        if val == \"yes\":\n",
    "            total_smokers_by_region[key] +=1\n",
    "            \n",
    "print(total_smokers_by_region)\n",
    "\n",
    "max_smokers, max_region_smokers = max_value(total_smokers_by_region)\n",
    "\n",
    "print(\"The region with the most smokers is {}.\".format(max_region_smokers))\n",
    "\n"
   ]
  },
  {
   "cell_type": "code",
   "execution_count": 8,
   "metadata": {},
   "outputs": [
    {
     "name": "stdout",
     "output_type": "stream",
     "text": [
      "{'southwest': 12346.93737729231, 'southeast': 14735.411437609895, 'northwest': 12417.575373969228, 'northeast': 13406.3845163858}\n",
      "The region with the average highest medical costs is southeast with an average cost of 14735.411437609895\n",
      "The region with the average lowest medical costs is southwest with an average cost of 12346.93737729231\n"
     ]
    }
   ],
   "source": [
    "#Create dictionary to store info about medical expenses by region.\n",
    "\n",
    "region_charges_dict = create_dict(region, charges)\n",
    "\n",
    "total_charges_by_region = {}\n",
    "ave_charges_by_region = {}\n",
    "\n",
    "for key,value in region_charges_dict.items():\n",
    "    total_charges_by_region[key] = 0\n",
    "    for charge in value:\n",
    "        total_charges_by_region[key] += charge\n",
    "    ave_charges_by_region[key] = total_charges_by_region[key]/len(region_charges_dict[key])\n",
    "    \n",
    "print(ave_charges_by_region) \n",
    "\n",
    "max_charges, max_region_charges = max_value(ave_charges_by_region)\n",
    "print(\"The region with the average highest medical costs is {} with an average cost of {}\".format(max_region_charges, max_charges))\n",
    "\n",
    "def min_value(dict):\n",
    "    min_val = None\n",
    "    min_key = None\n",
    "    for key, value in dict.items():\n",
    "        if min_val ==None:\n",
    "            min_val = value\n",
    "            min_key = key\n",
    "        elif value < min_val:    \n",
    "            min_val = value\n",
    "            min_key = key\n",
    "    return min_val, min_key\n",
    "\n",
    "min_charges, min_region_charges = min_value(ave_charges_by_region)\n",
    "\n",
    "print(\"The region with the average lowest medical costs is {} with an average cost of {}\".format(min_region_charges, min_charges))\n"
   ]
  }
 ],
 "metadata": {
  "kernelspec": {
   "display_name": "Python 3",
   "language": "python",
   "name": "python3"
  },
  "language_info": {
   "codemirror_mode": {
    "name": "ipython",
    "version": 3
   },
   "file_extension": ".py",
   "mimetype": "text/x-python",
   "name": "python",
   "nbconvert_exporter": "python",
   "pygments_lexer": "ipython3",
   "version": "3.9.1"
  }
 },
 "nbformat": 4,
 "nbformat_minor": 4
}
